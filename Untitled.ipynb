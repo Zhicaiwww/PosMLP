{
 "cells": [
  {
   "cell_type": "code",
   "execution_count": null,
   "source": [
    "from models.layers import *\n",
    "import torch\n",
    "input = torch.randn([4,3,224,224])\n",
    "emb1 = PatchEmbed()\n",
    "emb1(input).size()\n",
    "emb2= ConvolutionalEmbed()\n",
    "emb2(input).size()\n"
   ],
   "outputs": [],
   "metadata": {}
  },
  {
   "cell_type": "code",
   "execution_count": null,
   "source": [
    "import torch\n",
    "from thop import profile\n",
    "import warnings\n",
    "import models\n",
    "models.list_models()\n",
    "warnings.filterwarnings('ignore')\n",
    "input=torch.randn([1,3,224,224])\n",
    "\n",
    "model = models.SCgmlp_S7()\n",
    "flop,para = profile(model,inputs=(input,))\n",
    "print('with input size {}, model has para numbers {} and flops {} '.format(input.size(),para,flop))\n",
    "\n"
   ],
   "outputs": [],
   "metadata": {}
  },
  {
   "cell_type": "code",
   "execution_count": 3,
   "source": [
    "import torch \n",
    "ck = torch.load('/data/zhicai/ckpts/Mgmlp/train/20210923-125519-nest_gmlp_s-224/last.pth.tar')\n",
    "print(ck[\"state_dict_ema\"].keys())"
   ],
   "outputs": [
    {
     "output_type": "error",
     "ename": "KeyError",
     "evalue": "'state_dict_ema'",
     "traceback": [
      "\u001b[0;31m---------------------------------------------------------------------------\u001b[0m",
      "\u001b[0;31mKeyError\u001b[0m                                  Traceback (most recent call last)",
      "\u001b[0;32m<ipython-input-3-b0bc0f6b4579>\u001b[0m in \u001b[0;36m<module>\u001b[0;34m\u001b[0m\n\u001b[1;32m      1\u001b[0m \u001b[0;32mimport\u001b[0m \u001b[0mtorch\u001b[0m\u001b[0;34m\u001b[0m\u001b[0;34m\u001b[0m\u001b[0m\n\u001b[1;32m      2\u001b[0m \u001b[0mck\u001b[0m \u001b[0;34m=\u001b[0m \u001b[0mtorch\u001b[0m\u001b[0;34m.\u001b[0m\u001b[0mload\u001b[0m\u001b[0;34m(\u001b[0m\u001b[0;34m'/home/zhicai/Mgmlp/gmlp_s16_224_raa-10536d42.pth'\u001b[0m\u001b[0;34m)\u001b[0m\u001b[0;34m\u001b[0m\u001b[0;34m\u001b[0m\u001b[0m\n\u001b[0;32m----> 3\u001b[0;31m \u001b[0mprint\u001b[0m\u001b[0;34m(\u001b[0m\u001b[0mck\u001b[0m\u001b[0;34m[\u001b[0m\u001b[0;34m\"state_dict_ema\"\u001b[0m\u001b[0;34m]\u001b[0m\u001b[0;34m.\u001b[0m\u001b[0mkeys\u001b[0m\u001b[0;34m(\u001b[0m\u001b[0;34m)\u001b[0m\u001b[0;34m)\u001b[0m\u001b[0;34m\u001b[0m\u001b[0;34m\u001b[0m\u001b[0m\n\u001b[0m",
      "\u001b[0;31mKeyError\u001b[0m: 'state_dict_ema'"
     ]
    }
   ],
   "metadata": {}
  },
  {
   "cell_type": "code",
   "execution_count": null,
   "source": [
    "import models\n",
    "M3gmlp = models.create_model('M3gmlp_s16_224')\n",
    "gmlp = models.create_model('gmlp_s16_224')\n",
    "state_dict = gmlp.state_dict()\n",
    "for name,para in M3gmlp.named_parameters():\n",
    "    if name in state_dict.keys():\n",
    "        para.requires_grad = False"
   ],
   "outputs": [],
   "metadata": {}
  },
  {
   "cell_type": "code",
   "execution_count": null,
   "source": [
    "import torch\n",
    "ckpt = torch.load('/home/zhicai/Mgmlp/output/train/20210725-171200-SCG3gmlp_ti16_224-224/checkpoint-129.pth.tar')\n",
    "to_kw=[]\n",
    "to_vw=[]\n",
    "to_kb=[]\n",
    "to_vb=[]\n",
    "for k,v in ckpt['state_dict_ema'].items():\n",
    "    if \"gate.proj_list\" in k and 'weight' in k:\n",
    "        to_kw.append(k)\n",
    "        to_vw.append(v)\n",
    "    if \"gate.proj_list\" in k and 'bias' in k:\n",
    "        to_kb.append(k)\n",
    "        to_vb.append(v)\n",
    "\n",
    "import matplotlib.pyplot as plt\n",
    "fig = plt.figure(figsize=(50, 50),tight_layout=True)\n",
    "for i, idx in enumerate(range(6,0,-1)):\n",
    "    ax1 = fig.add_subplot(3,2,i+1)\n",
    "    ax1.imshow(to_vw[-idx].cpu())\n",
    "    # ax1.axis('off')\n",
    "fig.savefig('save_img.jpg', facecolor='grey', edgecolor='red')\n",
    "plt.show()"
   ],
   "outputs": [],
   "metadata": {}
  },
  {
   "cell_type": "code",
   "execution_count": null,
   "source": [
    "import torch\n",
    "ckpt = torch.load('/home/zhicai/Mgmlp/output/train/20210727-073338-SCG3gmlp_s16_224-224/checkpoint-129.pth.tar')\n",
    "out = []\n",
    "for k,v in ckpt['state_dict_ema'].items():\n",
    "    print(k,' ', v.size())"
   ],
   "outputs": [],
   "metadata": {}
  },
  {
   "cell_type": "code",
   "execution_count": null,
   "source": [
    "import torch\n",
    "ckpt = torch.load('/home/zhicai/Mgmlp/output/train/20210727-162220-gmlp_s16_224-224/checkpoint-118.pth.tar')\n",
    "out = []\n",
    "for k,v in ckpt['state_dict_ema'].items():\n",
    "    print(k,' ', v.size())"
   ],
   "outputs": [],
   "metadata": {}
  },
  {
   "cell_type": "code",
   "execution_count": null,
   "source": [
    "import csv\n",
    "def get_data(csv_file):\n",
    "    with open(csv_file +'/summary.csv','r') as f:\n",
    "            row = csv.reader(f, delimiter = ',')\n",
    "            next(row)  #读取首行\n",
    "            epoch = []\n",
    "            train_loss = []\n",
    "            eval_loss = []\n",
    "            ac1 = []\n",
    "            for i, t_l,e_l,acc,_  in row:\n",
    "                epoch.append(int(i))\n",
    "                train_loss.append(float(t_l))\n",
    "                eval_loss.append(float(e_l))\n",
    "                ac1.append(float(acc))\n",
    "    return epoch,train_loss,eval_loss,ac1\n"
   ],
   "outputs": [],
   "metadata": {}
  },
  {
   "cell_type": "code",
   "execution_count": null,
   "source": [
    "from matplotlib import pyplot as plt\n",
    "f1= '/home/zhicai/Mgmlp/output/train/79.44-SCG3gmlp_convstem_s16_224_2-224'\n",
    "f2 = '/home/zhicai/Mgmlp/output/train/78.79-M3gmlp_s16_224-224'\n",
    "# f3 = '/home/zhicai/Mgmlp/output/train/83.64-SCG3gmlp_convstem_s16_224_2-224_no gamma_half_data'\n",
    "epoch1,train_loss1,eval_loss1,acc1 = get_data(f1)\n",
    "epoch2,train_loss2,eval_loss2,acc2 = get_data(f2)\n",
    "# epoch3,train_loss3,_,acc3 = get_data(f3)\n",
    "\n",
    "plt.title('eval loss figure')\n",
    "plt.xlabel(\"epoch\") \n",
    "plt.ylabel(\"eval loss\") \n",
    "plt.plot(epoch1,eval_loss1,  c=\"#9966ff\", label=\"M3gmlp\")\n",
    "plt.plot(epoch2,eval_loss2,  c=\"#00BB00\", label=\"SCG3gmlp_convstem_gamma4_S\")\n",
    "# plt.plot(epoch3,acc3,   c=\"#EA0000\", label=\"SCG3gmlp_convstem_S\")\n",
    "plt.legend()\n",
    "plt.show()"
   ],
   "outputs": [],
   "metadata": {}
  },
  {
   "cell_type": "code",
   "execution_count": null,
   "source": [
    "to_kw=[]\n",
    "to_vw=[]\n",
    "to_kb=[]\n",
    "to_vb=[]\n",
    "for k,v in ckpt['state_dict_ema'].items():\n",
    "    if \"gate.proj_list\" in k and 'weight' in k:\n",
    "        to_kw.append(k)\n",
    "        to_vw.append(v)\n",
    "    if \"gate.proj_list\" in k and 'bias' in k:\n",
    "        to_kb.append(k)\n",
    "        to_vb.append(v)"
   ],
   "outputs": [],
   "metadata": {}
  },
  {
   "cell_type": "code",
   "execution_count": null,
   "source": [
    "len(to_kw)"
   ],
   "outputs": [],
   "metadata": {}
  },
  {
   "cell_type": "code",
   "execution_count": null,
   "source": [
    "import matplotlib.pyplot as plt\n",
    "fig = plt.figure(figsize=(50, 50),tight_layout=True)\n",
    "for i, idx in enumerate(range(0,20,1)):\n",
    "    ax1 = fig.add_subplot(10,2,i+1)\n",
    "    ax1.imshow(to_vw[idx].cpu())\n",
    "    # ax1.axis('off')\n",
    "fig.savefig('save_img.jpg', facecolor='grey', edgecolor='red')\n",
    "plt.show()\n",
    "\n"
   ],
   "outputs": [],
   "metadata": {}
  },
  {
   "cell_type": "code",
   "execution_count": null,
   "source": [
    "import csv\n",
    "import matplotlib.pyplot as plt \n",
    "\n",
    "def getdata(path):\n",
    "    acc=[]\n",
    "    loss_train=[]\n",
    "    with open(path,'r') as f:\n",
    "        cr = f.readlines()\n",
    "        for idx, row in enumerate(cr):\n",
    "            if idx==0:\n",
    "                continue\n",
    "            row = row.strip().split(',')\n",
    "            acc.append(float((row[3])))\n",
    "            loss_train.append(float(row[1]))\n",
    "    return acc,loss_train\n"
   ],
   "outputs": [],
   "metadata": {}
  },
  {
   "cell_type": "code",
   "execution_count": null,
   "source": [
    "acc1,_=getdata('/home/zhicai/Mgmlp/output/train/20210725-152757-gmlp_ti16_224-224/summary.csv')\n",
    "acc2,_=getdata('/home/zhicai/Mgmlp/output/train/20210725-165048-M3gmlp_ti16_224-224/summary.csv')\n",
    "acc3,_ =getdata('/home/zhicai/Mgmlp/output/train/20210725-171200-SCG3gmlp_ti16_224-224/summary.csv')\n",
    "import numpy as np\n",
    "plt.figure(figsize=(10, 8.5))\n",
    "plt.plot(acc1,label='gmlp-ti_baseline')\n",
    "plt.plot(acc2,label='M3gmlp-ti')\n",
    "plt.plot(acc3,label='SCG3gmlp-ti')\n",
    "plt.ylabel('ACC1')\n",
    "plt.xlabel('epochs')\n",
    "plt.legend()\n",
    "plt.show()"
   ],
   "outputs": [],
   "metadata": {}
  },
  {
   "cell_type": "code",
   "execution_count": null,
   "source": [
    "import numpy as np\n",
    "plt.figure(figsize=(10, 8.5))\n",
    "plt.plot(acc1,label='gmlp-ti_baseline')\n",
    "plt.plot(acc2,label='M3gmlp-ti')\n",
    "plt.plot(acc3,label='SCG3gmlp-ti')\n",
    "plt.ylabel('ACC1')\n",
    "plt.xlabel('epochs')\n",
    "plt.legend()\n",
    "plt.show()"
   ],
   "outputs": [],
   "metadata": {}
  },
  {
   "cell_type": "code",
   "execution_count": null,
   "source": [
    "from models.splat import *\n",
    "import torch\n",
    "from thop import profile\n",
    "import warnings\n",
    "import models\n",
    "warnings.filterwarnings('ignore')\n",
    "input =  torch.randn(4,256,224,224)\n",
    "model = SplAtConv2d(256,256,1,stride=1,padding=0,groups=1,radix=4)\n",
    "flop,para = profile(model,inputs=(input,))\n",
    "out = model(input)\n",
    "print('with input size {}, model has para numbers {} and flops {} '.format(input.size(),para,flop))\n",
    "out.size()"
   ],
   "outputs": [],
   "metadata": {}
  },
  {
   "cell_type": "code",
   "execution_count": null,
   "source": [
    "from models.splat import *\n",
    "import torch\n",
    "from thop import profile\n",
    "model2 =conv2(256,256,1,stride=1,padding=0)\n",
    "input =  torch.randn(4,256,224,224)\n",
    "flop,para = profile(model2,inputs=(input,))\n",
    "print('with input size {}, model has para numbers {} and flops {} '.format(input.size(),para,flop))\n",
    "out = model2(input)\n",
    "out.size()"
   ],
   "outputs": [],
   "metadata": {}
  },
  {
   "cell_type": "code",
   "execution_count": null,
   "source": [],
   "outputs": [],
   "metadata": {}
  }
 ],
 "metadata": {
  "kernelspec": {
   "name": "python3",
   "display_name": "Python 3.7.3 64-bit ('base': conda)"
  },
  "language_info": {
   "codemirror_mode": {
    "name": "ipython",
    "version": 3
   },
   "file_extension": ".py",
   "mimetype": "text/x-python",
   "name": "python",
   "nbconvert_exporter": "python",
   "pygments_lexer": "ipython3",
   "version": "3.7.3"
  },
  "interpreter": {
   "hash": "451ea3fe770d0dbd78d474f840636a3609bb179e9d011ae4388eaee9f8de5df9"
  }
 },
 "nbformat": 4,
 "nbformat_minor": 5
}