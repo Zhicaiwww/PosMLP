{
 "cells": [
  {
   "cell_type": "code",
   "execution_count": null,
   "metadata": {},
   "outputs": [],
   "source": [
    "import torch\n",
    "path ='/data/zhicai/ckpts/pretrain/checkpoint-309.pth.tar'\n",
    "ckpt = torch.load(path,map_location='cpu')\n",
    "a = []\n",
    "for i,v in ckpt['state_dict_ema'].items():\n",
    "    if 'attention_centers' in i :\n",
    "        a.append(v)"
   ]
  },
  {
   "cell_type": "code",
   "execution_count": 4,
   "metadata": {},
   "outputs": [],
   "source": [
    "a = []\n",
    "for i,v in ckpt['state_dict_ema'].items():\n",
    "    if 'attention_centers' in i :\n",
    "        a.append(v)"
   ]
  },
  {
   "cell_type": "code",
   "execution_count": null,
   "metadata": {},
   "outputs": [
    {
     "data": {
      "text/plain": [
       "24"
      ]
     },
     "execution_count": 5,
     "metadata": {},
     "output_type": "execute_result"
    }
   ],
   "source": [
    "nn.Conv2d(in_chs, out_chs, kernel_size"
   ]
  },
  {
   "cell_type": "code",
   "execution_count": 6,
   "metadata": {},
   "outputs": [
    {
     "data": {
      "text/plain": [
       "[tensor([[0.1057, 0.0083]]),\n",
       " tensor([[ 0.0350, -0.1202]]),\n",
       " tensor([[ 0.0649, -0.0688]]),\n",
       " tensor([[ 0.0772, -0.0366]]),\n",
       " tensor([[-0.0002,  0.0046]]),\n",
       " tensor([[ 0.0093, -0.0087]]),\n",
       " tensor([[-0.2978, -0.3316]]),\n",
       " tensor([[ 0.2172, -0.0592]]),\n",
       " tensor([[0.0083, 0.5994]]),\n",
       " tensor([[-0.4836, -0.2262]]),\n",
       " tensor([[ 0.6211, -0.1449]]),\n",
       " tensor([[-0.0277, -0.5468]]),\n",
       " tensor([[ 0.5677, -0.0163]]),\n",
       " tensor([[-0.0764, -0.0673]]),\n",
       " tensor([[ 1.1439, -0.0231]]),\n",
       " tensor([[ 1.0943, -0.0186]]),\n",
       " tensor([[ 0.3702, -0.0174]]),\n",
       " tensor([[-1.6352, -0.0324]]),\n",
       " tensor([[ 2.5154, -0.0552]]),\n",
       " tensor([[ 1.2347, -0.0376]]),\n",
       " tensor([[-0.2182, -0.0366]]),\n",
       " tensor([[-0.6364,  0.6916]]),\n",
       " tensor([[ 0.0083, -0.0120]]),\n",
       " tensor([[ 0.2106, -0.4864]])]"
      ]
     },
     "execution_count": 6,
     "metadata": {},
     "output_type": "execute_result"
    }
   ],
   "source": [
    "a"
   ]
  },
  {
   "cell_type": "code",
   "execution_count": null,
   "metadata": {},
   "outputs": [],
   "source": []
  }
 ],
 "metadata": {
  "interpreter": {
   "hash": "242e73f01c9477c917eedf6aa849905e38381f8bcb41891056bb1458ffc61fd2"
  },
  "kernelspec": {
   "display_name": "Python 3.7.10 64-bit ('base': conda)",
   "name": "python3"
  },
  "language_info": {
   "codemirror_mode": {
    "name": "ipython",
    "version": 3
   },
   "file_extension": ".py",
   "mimetype": "text/x-python",
   "name": "python",
   "nbconvert_exporter": "python",
   "pygments_lexer": "ipython3",
   "version": "3.7.10"
  },
  "orig_nbformat": 4
 },
 "nbformat": 4,
 "nbformat_minor": 2
}
